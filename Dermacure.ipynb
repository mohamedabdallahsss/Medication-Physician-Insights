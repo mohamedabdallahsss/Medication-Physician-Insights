{
 "cells": [
  {
   "cell_type": "code",
   "execution_count": 21,
   "metadata": {},
   "outputs": [],
   "source": [
    "import pandas as pd\n",
    "import random\n",
    "import numpy as np"
   ]
  },
  {
   "cell_type": "code",
   "execution_count": 22,
   "metadata": {},
   "outputs": [],
   "source": [
    "df = pd.read_csv(\"dermacure_survey.csv\", index_col = False)"
   ]
  },
  {
   "cell_type": "code",
   "execution_count": 23,
   "metadata": {},
   "outputs": [
    {
     "data": {
      "text/html": [
       "<div>\n",
       "<style scoped>\n",
       "    .dataframe tbody tr th:only-of-type {\n",
       "        vertical-align: middle;\n",
       "    }\n",
       "\n",
       "    .dataframe tbody tr th {\n",
       "        vertical-align: top;\n",
       "    }\n",
       "\n",
       "    .dataframe thead th {\n",
       "        text-align: right;\n",
       "    }\n",
       "</style>\n",
       "<table border=\"1\" class=\"dataframe\">\n",
       "  <thead>\n",
       "    <tr style=\"text-align: right;\">\n",
       "      <th></th>\n",
       "      <th>ID</th>\n",
       "      <th>Specialty</th>\n",
       "      <th>Years_in_Practice</th>\n",
       "      <th>Practice_Setting</th>\n",
       "      <th>Country</th>\n",
       "      <th>Aware_of_Dermacure</th>\n",
       "      <th>First_Learned</th>\n",
       "      <th>Frequency_of_Info</th>\n",
       "      <th>Prescribed_Dermacure</th>\n",
       "      <th>Number_of_Patients</th>\n",
       "      <th>...</th>\n",
       "      <th>Ruxolitinib_Rating</th>\n",
       "      <th>Influencing_Factors</th>\n",
       "      <th>Ranking_Factors</th>\n",
       "      <th>Patient_Severity</th>\n",
       "      <th>Biologic_Naive_Percentage</th>\n",
       "      <th>Comorbidities</th>\n",
       "      <th>Suitable_Patient_Profile</th>\n",
       "      <th>Patient_Journey</th>\n",
       "      <th>Switching_Stage</th>\n",
       "      <th>Additional_Comments</th>\n",
       "    </tr>\n",
       "  </thead>\n",
       "  <tbody>\n",
       "    <tr>\n",
       "      <th>0</th>\n",
       "      <td>1</td>\n",
       "      <td>Dermatology</td>\n",
       "      <td>11-20 years</td>\n",
       "      <td>Hospital-based</td>\n",
       "      <td>Italy</td>\n",
       "      <td>No</td>\n",
       "      <td>NaN</td>\n",
       "      <td>NaN</td>\n",
       "      <td>No</td>\n",
       "      <td>NaN</td>\n",
       "      <td>...</td>\n",
       "      <td>2.0</td>\n",
       "      <td>Clinical efficacy</td>\n",
       "      <td>Effectiveness, Safety, Cost, Adherence, Famili...</td>\n",
       "      <td>Mild</td>\n",
       "      <td>51-75%</td>\n",
       "      <td>Allergic Rhinitis</td>\n",
       "      <td>Patients who failed systemic therapies, Patien...</td>\n",
       "      <td>Topical -&gt; Biologic</td>\n",
       "      <td>After failure of topical therapies</td>\n",
       "      <td>Limited evidence available</td>\n",
       "    </tr>\n",
       "    <tr>\n",
       "      <th>1</th>\n",
       "      <td>2</td>\n",
       "      <td>Pediatrics</td>\n",
       "      <td>6-10 years</td>\n",
       "      <td>Community clinic</td>\n",
       "      <td>Italy</td>\n",
       "      <td>Yes</td>\n",
       "      <td>Professional conference</td>\n",
       "      <td>Occasionally</td>\n",
       "      <td>Yes</td>\n",
       "      <td>1-5</td>\n",
       "      <td>...</td>\n",
       "      <td>5.0</td>\n",
       "      <td>Cost, Clinical efficacy</td>\n",
       "      <td>Effectiveness, Safety, Cost, Adherence, Famili...</td>\n",
       "      <td>Severe</td>\n",
       "      <td>0-25%</td>\n",
       "      <td>Allergic Rhinitis</td>\n",
       "      <td>Patients who failed topical corticosteroids</td>\n",
       "      <td>Topical -&gt; Systemic</td>\n",
       "      <td>After failure of topical therapies</td>\n",
       "      <td>High patient satisfaction</td>\n",
       "    </tr>\n",
       "    <tr>\n",
       "      <th>2</th>\n",
       "      <td>3</td>\n",
       "      <td>General Practice</td>\n",
       "      <td>6-10 years</td>\n",
       "      <td>Community clinic</td>\n",
       "      <td>Germany</td>\n",
       "      <td>Yes</td>\n",
       "      <td>Professional conference</td>\n",
       "      <td>Frequently</td>\n",
       "      <td>Yes</td>\n",
       "      <td>1-5</td>\n",
       "      <td>...</td>\n",
       "      <td>3.0</td>\n",
       "      <td>Patient demand, Safety profile</td>\n",
       "      <td>Effectiveness, Safety, Cost, Adherence, Famili...</td>\n",
       "      <td>Moderate</td>\n",
       "      <td>76-100%</td>\n",
       "      <td>NaN</td>\n",
       "      <td>Patients who failed systemic therapies, Patien...</td>\n",
       "      <td>Topical -&gt; Biologic</td>\n",
       "      <td>After failure of topical therapies</td>\n",
       "      <td>Limited evidence available</td>\n",
       "    </tr>\n",
       "    <tr>\n",
       "      <th>3</th>\n",
       "      <td>4</td>\n",
       "      <td>Allergy/Immunology</td>\n",
       "      <td>0-5 years</td>\n",
       "      <td>Private practice</td>\n",
       "      <td>France</td>\n",
       "      <td>Yes</td>\n",
       "      <td>Medical journal/literature</td>\n",
       "      <td>Rarely</td>\n",
       "      <td>Yes</td>\n",
       "      <td>1-5</td>\n",
       "      <td>...</td>\n",
       "      <td>5.0</td>\n",
       "      <td>Safety profile</td>\n",
       "      <td>Effectiveness, Safety, Cost, Adherence, Famili...</td>\n",
       "      <td>Severe</td>\n",
       "      <td>51-75%</td>\n",
       "      <td>Psoriasis, Food Allergies</td>\n",
       "      <td>Patients who failed systemic therapies</td>\n",
       "      <td>Topical -&gt; Biologic</td>\n",
       "      <td>After failure of systemic therapies</td>\n",
       "      <td>Limited evidence available</td>\n",
       "    </tr>\n",
       "    <tr>\n",
       "      <th>4</th>\n",
       "      <td>5</td>\n",
       "      <td>Dermatology</td>\n",
       "      <td>0-5 years</td>\n",
       "      <td>Hospital-based</td>\n",
       "      <td>France</td>\n",
       "      <td>Yes</td>\n",
       "      <td>Peer recommendation</td>\n",
       "      <td>Rarely</td>\n",
       "      <td>No</td>\n",
       "      <td>NaN</td>\n",
       "      <td>...</td>\n",
       "      <td>NaN</td>\n",
       "      <td>Peer recommendations</td>\n",
       "      <td>Effectiveness, Safety, Cost, Adherence, Famili...</td>\n",
       "      <td>Mild</td>\n",
       "      <td>0-25%</td>\n",
       "      <td>Psoriasis, Allergic Rhinitis</td>\n",
       "      <td>Patients who failed systemic therapies, Patien...</td>\n",
       "      <td>Topical -&gt; Biologic</td>\n",
       "      <td>After failure of systemic therapies</td>\n",
       "      <td>Waiting for more data</td>\n",
       "    </tr>\n",
       "  </tbody>\n",
       "</table>\n",
       "<p>5 rows × 32 columns</p>\n",
       "</div>"
      ],
      "text/plain": [
       "   ID           Specialty Years_in_Practice  Practice_Setting  Country  \\\n",
       "0   1         Dermatology       11-20 years    Hospital-based    Italy   \n",
       "1   2          Pediatrics        6-10 years  Community clinic    Italy   \n",
       "2   3    General Practice        6-10 years  Community clinic  Germany   \n",
       "3   4  Allergy/Immunology         0-5 years  Private practice   France   \n",
       "4   5         Dermatology         0-5 years    Hospital-based   France   \n",
       "\n",
       "  Aware_of_Dermacure               First_Learned Frequency_of_Info  \\\n",
       "0                 No                         NaN               NaN   \n",
       "1                Yes     Professional conference      Occasionally   \n",
       "2                Yes     Professional conference        Frequently   \n",
       "3                Yes  Medical journal/literature            Rarely   \n",
       "4                Yes         Peer recommendation            Rarely   \n",
       "\n",
       "  Prescribed_Dermacure Number_of_Patients  ... Ruxolitinib_Rating  \\\n",
       "0                   No                NaN  ...                2.0   \n",
       "1                  Yes                1-5  ...                5.0   \n",
       "2                  Yes                1-5  ...                3.0   \n",
       "3                  Yes                1-5  ...                5.0   \n",
       "4                   No                NaN  ...                NaN   \n",
       "\n",
       "              Influencing_Factors  \\\n",
       "0               Clinical efficacy   \n",
       "1         Cost, Clinical efficacy   \n",
       "2  Patient demand, Safety profile   \n",
       "3                  Safety profile   \n",
       "4            Peer recommendations   \n",
       "\n",
       "                                     Ranking_Factors Patient_Severity  \\\n",
       "0  Effectiveness, Safety, Cost, Adherence, Famili...             Mild   \n",
       "1  Effectiveness, Safety, Cost, Adherence, Famili...           Severe   \n",
       "2  Effectiveness, Safety, Cost, Adherence, Famili...         Moderate   \n",
       "3  Effectiveness, Safety, Cost, Adherence, Famili...           Severe   \n",
       "4  Effectiveness, Safety, Cost, Adherence, Famili...             Mild   \n",
       "\n",
       "  Biologic_Naive_Percentage                 Comorbidities  \\\n",
       "0                    51-75%             Allergic Rhinitis   \n",
       "1                     0-25%             Allergic Rhinitis   \n",
       "2                   76-100%                           NaN   \n",
       "3                    51-75%     Psoriasis, Food Allergies   \n",
       "4                     0-25%  Psoriasis, Allergic Rhinitis   \n",
       "\n",
       "                            Suitable_Patient_Profile      Patient_Journey  \\\n",
       "0  Patients who failed systemic therapies, Patien...  Topical -> Biologic   \n",
       "1        Patients who failed topical corticosteroids  Topical -> Systemic   \n",
       "2  Patients who failed systemic therapies, Patien...  Topical -> Biologic   \n",
       "3             Patients who failed systemic therapies  Topical -> Biologic   \n",
       "4  Patients who failed systemic therapies, Patien...  Topical -> Biologic   \n",
       "\n",
       "                       Switching_Stage         Additional_Comments  \n",
       "0   After failure of topical therapies  Limited evidence available  \n",
       "1   After failure of topical therapies   High patient satisfaction  \n",
       "2   After failure of topical therapies  Limited evidence available  \n",
       "3  After failure of systemic therapies  Limited evidence available  \n",
       "4  After failure of systemic therapies       Waiting for more data  \n",
       "\n",
       "[5 rows x 32 columns]"
      ]
     },
     "execution_count": 23,
     "metadata": {},
     "output_type": "execute_result"
    }
   ],
   "source": [
    "df.head()"
   ]
  },
  {
   "cell_type": "markdown",
   "metadata": {},
   "source": [
    "Fix Logical Inconsistencies"
   ]
  },
  {
   "cell_type": "code",
   "execution_count": 24,
   "metadata": {},
   "outputs": [
    {
     "data": {
      "text/plain": [
       "array([nan, '6-10', '1-5'], dtype=object)"
      ]
     },
     "execution_count": 24,
     "metadata": {},
     "output_type": "execute_result"
    }
   ],
   "source": [
    "df.loc[df['Prescribed_Dermacure'] == 'No', 'Number_of_Patients'].unique()"
   ]
  },
  {
   "cell_type": "code",
   "execution_count": 25,
   "metadata": {},
   "outputs": [
    {
     "data": {
      "text/plain": [
       "Number_of_Patients\n",
       "6-10    2\n",
       "1-5     1\n",
       "Name: count, dtype: int64"
      ]
     },
     "execution_count": 25,
     "metadata": {},
     "output_type": "execute_result"
    }
   ],
   "source": [
    "df.loc[df['Prescribed_Dermacure'] == 'No', 'Number_of_Patients'].value_counts()"
   ]
  },
  {
   "cell_type": "code",
   "execution_count": 26,
   "metadata": {},
   "outputs": [],
   "source": [
    "df = df.drop(df[(df['Prescribed_Dermacure'] == 'No') & (df['Number_of_Patients'].notna())].index)"
   ]
  },
  {
   "cell_type": "code",
   "execution_count": 27,
   "metadata": {},
   "outputs": [
    {
     "data": {
      "text/plain": [
       "array(['1-5', 'More than 20', '6-10', '11-20', nan], dtype=object)"
      ]
     },
     "execution_count": 27,
     "metadata": {},
     "output_type": "execute_result"
    }
   ],
   "source": [
    "df.loc[df['Prescribed_Dermacure'] == 'Yes', 'Number_of_Patients'].unique()"
   ]
  },
  {
   "cell_type": "code",
   "execution_count": 28,
   "metadata": {},
   "outputs": [],
   "source": [
    "df = df.drop(df[(df['Prescribed_Dermacure'] == 'Yes') & (df['Number_of_Patients'].isna())].index)"
   ]
  },
  {
   "cell_type": "code",
   "execution_count": 29,
   "metadata": {},
   "outputs": [
    {
     "data": {
      "text/plain": [
       "Not_Prescribed_Reasons\n",
       "Cost issues                              1\n",
       "Preference for alternative treatments    1\n",
       "Insufficient clinical evidence           1\n",
       "Concerns about cost                      1\n",
       "Name: count, dtype: int64"
      ]
     },
     "execution_count": 29,
     "metadata": {},
     "output_type": "execute_result"
    }
   ],
   "source": [
    "df.loc[df['Prescribed_Dermacure'] == 'Yes', 'Not_Prescribed_Reasons'].value_counts()"
   ]
  },
  {
   "cell_type": "code",
   "execution_count": 30,
   "metadata": {},
   "outputs": [],
   "source": [
    "df = df.drop(df[(df['Prescribed_Dermacure'] == 'Yes') & (df['Not_Prescribed_Reasons'].notna())].index)"
   ]
  },
  {
   "cell_type": "markdown",
   "metadata": {},
   "source": [
    "Making sure that the dataset is not too small after cleaning"
   ]
  },
  {
   "cell_type": "code",
   "execution_count": 31,
   "metadata": {},
   "outputs": [
    {
     "name": "stdout",
     "output_type": "stream",
     "text": [
      "231\n"
     ]
    }
   ],
   "source": [
    "print(len(df))"
   ]
  },
  {
   "cell_type": "markdown",
   "metadata": {},
   "source": [
    "Filling Nan values since this dataset was made with chatgpt"
   ]
  },
  {
   "cell_type": "code",
   "execution_count": 32,
   "metadata": {},
   "outputs": [
    {
     "name": "stdout",
     "output_type": "stream",
     "text": [
      "ID                             0\n",
      "Specialty                      0\n",
      "Years_in_Practice              0\n",
      "Practice_Setting               0\n",
      "Country                        0\n",
      "Aware_of_Dermacure             0\n",
      "First_Learned                123\n",
      "Frequency_of_Info            123\n",
      "Prescribed_Dermacure           0\n",
      "Number_of_Patients            67\n",
      "Not_Prescribed_Reasons       171\n",
      "Overall_Effectiveness          0\n",
      "Response_Time                  0\n",
      "Safety_Profile                 0\n",
      "Adverse_Effects               56\n",
      "Barriers                      41\n",
      "Future_Prescribing_Intent      0\n",
      "Alternative_Treatments         0\n",
      "Dupilumab_Rating              32\n",
      "Tralokinumab_Rating           39\n",
      "Upadacitinib_Rating           46\n",
      "Abrocitinib_Rating            35\n",
      "Ruxolitinib_Rating            34\n",
      "Influencing_Factors            0\n",
      "Ranking_Factors                0\n",
      "Patient_Severity               0\n",
      "Biologic_Naive_Percentage      0\n",
      "Comorbidities                 27\n",
      "Suitable_Patient_Profile       0\n",
      "Patient_Journey                0\n",
      "Switching_Stage                0\n",
      "Additional_Comments            0\n",
      "dtype: int64\n"
     ]
    }
   ],
   "source": [
    "# Check if there are any remaining \"N/A\" values\n",
    "print(df.isna().sum())"
   ]
  },
  {
   "cell_type": "code",
   "execution_count": 33,
   "metadata": {},
   "outputs": [
    {
     "name": "stderr",
     "output_type": "stream",
     "text": [
      "C:\\Users\\Mohamed\\AppData\\Local\\Temp\\ipykernel_121604\\404426529.py:2: FutureWarning: A value is trying to be set on a copy of a DataFrame or Series through chained assignment using an inplace method.\n",
      "The behavior will change in pandas 3.0. This inplace method will never work because the intermediate object on which we are setting values always behaves as a copy.\n",
      "\n",
      "For example, when doing 'df[col].method(value, inplace=True)', try using 'df.method({col: value}, inplace=True)' or df[col] = df[col].method(value) instead, to perform the operation inplace on the original object.\n",
      "\n",
      "\n",
      "  df['First_Learned'].fillna(df['First_Learned'].mode()[0], inplace=True)\n",
      "C:\\Users\\Mohamed\\AppData\\Local\\Temp\\ipykernel_121604\\404426529.py:3: FutureWarning: A value is trying to be set on a copy of a DataFrame or Series through chained assignment using an inplace method.\n",
      "The behavior will change in pandas 3.0. This inplace method will never work because the intermediate object on which we are setting values always behaves as a copy.\n",
      "\n",
      "For example, when doing 'df[col].method(value, inplace=True)', try using 'df.method({col: value}, inplace=True)' or df[col] = df[col].method(value) instead, to perform the operation inplace on the original object.\n",
      "\n",
      "\n",
      "  df['Frequency_of_Info'].fillna(df['Frequency_of_Info'].mode()[0], inplace=True)\n",
      "C:\\Users\\Mohamed\\AppData\\Local\\Temp\\ipykernel_121604\\404426529.py:4: FutureWarning: A value is trying to be set on a copy of a DataFrame or Series through chained assignment using an inplace method.\n",
      "The behavior will change in pandas 3.0. This inplace method will never work because the intermediate object on which we are setting values always behaves as a copy.\n",
      "\n",
      "For example, when doing 'df[col].method(value, inplace=True)', try using 'df.method({col: value}, inplace=True)' or df[col] = df[col].method(value) instead, to perform the operation inplace on the original object.\n",
      "\n",
      "\n",
      "  df['Number_of_Patients'].fillna(0, inplace=True)\n",
      "C:\\Users\\Mohamed\\AppData\\Local\\Temp\\ipykernel_121604\\404426529.py:5: FutureWarning: A value is trying to be set on a copy of a DataFrame or Series through chained assignment using an inplace method.\n",
      "The behavior will change in pandas 3.0. This inplace method will never work because the intermediate object on which we are setting values always behaves as a copy.\n",
      "\n",
      "For example, when doing 'df[col].method(value, inplace=True)', try using 'df.method({col: value}, inplace=True)' or df[col] = df[col].method(value) instead, to perform the operation inplace on the original object.\n",
      "\n",
      "\n",
      "  df['Not_Prescribed_Reasons'].fillna(df['Not_Prescribed_Reasons'].mode()[0], inplace=True)\n",
      "C:\\Users\\Mohamed\\AppData\\Local\\Temp\\ipykernel_121604\\404426529.py:6: FutureWarning: A value is trying to be set on a copy of a DataFrame or Series through chained assignment using an inplace method.\n",
      "The behavior will change in pandas 3.0. This inplace method will never work because the intermediate object on which we are setting values always behaves as a copy.\n",
      "\n",
      "For example, when doing 'df[col].method(value, inplace=True)', try using 'df.method({col: value}, inplace=True)' or df[col] = df[col].method(value) instead, to perform the operation inplace on the original object.\n",
      "\n",
      "\n",
      "  df['Adverse_Effects'].fillna(df['Adverse_Effects'].mode()[0], inplace=True)\n",
      "C:\\Users\\Mohamed\\AppData\\Local\\Temp\\ipykernel_121604\\404426529.py:7: FutureWarning: A value is trying to be set on a copy of a DataFrame or Series through chained assignment using an inplace method.\n",
      "The behavior will change in pandas 3.0. This inplace method will never work because the intermediate object on which we are setting values always behaves as a copy.\n",
      "\n",
      "For example, when doing 'df[col].method(value, inplace=True)', try using 'df.method({col: value}, inplace=True)' or df[col] = df[col].method(value) instead, to perform the operation inplace on the original object.\n",
      "\n",
      "\n",
      "  df['Barriers'].fillna(df['Barriers'].mode()[0], inplace=True)\n",
      "C:\\Users\\Mohamed\\AppData\\Local\\Temp\\ipykernel_121604\\404426529.py:8: FutureWarning: A value is trying to be set on a copy of a DataFrame or Series through chained assignment using an inplace method.\n",
      "The behavior will change in pandas 3.0. This inplace method will never work because the intermediate object on which we are setting values always behaves as a copy.\n",
      "\n",
      "For example, when doing 'df[col].method(value, inplace=True)', try using 'df.method({col: value}, inplace=True)' or df[col] = df[col].method(value) instead, to perform the operation inplace on the original object.\n",
      "\n",
      "\n",
      "  df['Dupilumab_Rating'].fillna(df['Dupilumab_Rating'].mode()[0], inplace=True)\n",
      "C:\\Users\\Mohamed\\AppData\\Local\\Temp\\ipykernel_121604\\404426529.py:9: FutureWarning: A value is trying to be set on a copy of a DataFrame or Series through chained assignment using an inplace method.\n",
      "The behavior will change in pandas 3.0. This inplace method will never work because the intermediate object on which we are setting values always behaves as a copy.\n",
      "\n",
      "For example, when doing 'df[col].method(value, inplace=True)', try using 'df.method({col: value}, inplace=True)' or df[col] = df[col].method(value) instead, to perform the operation inplace on the original object.\n",
      "\n",
      "\n",
      "  df['Tralokinumab_Rating'].fillna(df['Tralokinumab_Rating'].mode()[0], inplace=True)\n",
      "C:\\Users\\Mohamed\\AppData\\Local\\Temp\\ipykernel_121604\\404426529.py:10: FutureWarning: A value is trying to be set on a copy of a DataFrame or Series through chained assignment using an inplace method.\n",
      "The behavior will change in pandas 3.0. This inplace method will never work because the intermediate object on which we are setting values always behaves as a copy.\n",
      "\n",
      "For example, when doing 'df[col].method(value, inplace=True)', try using 'df.method({col: value}, inplace=True)' or df[col] = df[col].method(value) instead, to perform the operation inplace on the original object.\n",
      "\n",
      "\n",
      "  df['Upadacitinib_Rating'].fillna(df['Upadacitinib_Rating'].mode()[0], inplace=True)\n",
      "C:\\Users\\Mohamed\\AppData\\Local\\Temp\\ipykernel_121604\\404426529.py:11: FutureWarning: A value is trying to be set on a copy of a DataFrame or Series through chained assignment using an inplace method.\n",
      "The behavior will change in pandas 3.0. This inplace method will never work because the intermediate object on which we are setting values always behaves as a copy.\n",
      "\n",
      "For example, when doing 'df[col].method(value, inplace=True)', try using 'df.method({col: value}, inplace=True)' or df[col] = df[col].method(value) instead, to perform the operation inplace on the original object.\n",
      "\n",
      "\n",
      "  df['Abrocitinib_Rating'].fillna(df['Abrocitinib_Rating'].mode()[0], inplace=True)\n",
      "C:\\Users\\Mohamed\\AppData\\Local\\Temp\\ipykernel_121604\\404426529.py:12: FutureWarning: A value is trying to be set on a copy of a DataFrame or Series through chained assignment using an inplace method.\n",
      "The behavior will change in pandas 3.0. This inplace method will never work because the intermediate object on which we are setting values always behaves as a copy.\n",
      "\n",
      "For example, when doing 'df[col].method(value, inplace=True)', try using 'df.method({col: value}, inplace=True)' or df[col] = df[col].method(value) instead, to perform the operation inplace on the original object.\n",
      "\n",
      "\n",
      "  df['Ruxolitinib_Rating'].fillna(df['Ruxolitinib_Rating'].mode()[0], inplace=True)\n",
      "C:\\Users\\Mohamed\\AppData\\Local\\Temp\\ipykernel_121604\\404426529.py:13: FutureWarning: A value is trying to be set on a copy of a DataFrame or Series through chained assignment using an inplace method.\n",
      "The behavior will change in pandas 3.0. This inplace method will never work because the intermediate object on which we are setting values always behaves as a copy.\n",
      "\n",
      "For example, when doing 'df[col].method(value, inplace=True)', try using 'df.method({col: value}, inplace=True)' or df[col] = df[col].method(value) instead, to perform the operation inplace on the original object.\n",
      "\n",
      "\n",
      "  df['Comorbidities'].fillna(df['Comorbidities'].mode()[0], inplace=True)\n"
     ]
    }
   ],
   "source": [
    "# Alternatively, fill missing numeric columns with mean or median\n",
    "df['First_Learned'].fillna(df['First_Learned'].mode()[0], inplace=True)\n",
    "df['Frequency_of_Info'].fillna(df['Frequency_of_Info'].mode()[0], inplace=True)\n",
    "df['Number_of_Patients'].fillna(0, inplace=True)\n",
    "df['Not_Prescribed_Reasons'].fillna(df['Not_Prescribed_Reasons'].mode()[0], inplace=True)\n",
    "df['Adverse_Effects'].fillna(df['Adverse_Effects'].mode()[0], inplace=True)\n",
    "df['Barriers'].fillna(df['Barriers'].mode()[0], inplace=True)\n",
    "df['Dupilumab_Rating'].fillna(df['Dupilumab_Rating'].mode()[0], inplace=True)\n",
    "df['Tralokinumab_Rating'].fillna(df['Tralokinumab_Rating'].mode()[0], inplace=True)\n",
    "df['Upadacitinib_Rating'].fillna(df['Upadacitinib_Rating'].mode()[0], inplace=True)\n",
    "df['Abrocitinib_Rating'].fillna(df['Abrocitinib_Rating'].mode()[0], inplace=True)\n",
    "df['Ruxolitinib_Rating'].fillna(df['Ruxolitinib_Rating'].mode()[0], inplace=True)\n",
    "df['Comorbidities'].fillna(df['Comorbidities'].mode()[0], inplace=True)"
   ]
  },
  {
   "cell_type": "code",
   "execution_count": 34,
   "metadata": {},
   "outputs": [],
   "source": [
    "df.to_csv(\"dermacure_survey_clean.csv\", index = False)"
   ]
  },
  {
   "cell_type": "code",
   "execution_count": null,
   "metadata": {},
   "outputs": [],
   "source": []
  }
 ],
 "metadata": {
  "kernelspec": {
   "display_name": "Python 3",
   "language": "python",
   "name": "python3"
  },
  "language_info": {
   "codemirror_mode": {
    "name": "ipython",
    "version": 3
   },
   "file_extension": ".py",
   "mimetype": "text/x-python",
   "name": "python",
   "nbconvert_exporter": "python",
   "pygments_lexer": "ipython3",
   "version": "3.11.9"
  }
 },
 "nbformat": 4,
 "nbformat_minor": 2
}
